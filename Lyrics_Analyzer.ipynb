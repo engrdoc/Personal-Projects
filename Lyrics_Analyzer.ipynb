{
  "nbformat": 4,
  "nbformat_minor": 0,
  "metadata": {
    "colab": {
      "name": "Lyrics Analyzer.ipynb",
      "provenance": [],
      "authorship_tag": "ABX9TyNHsro4YFqkcNm0r4d2Tvba",
      "include_colab_link": true
    },
    "kernelspec": {
      "name": "python3",
      "display_name": "Python 3"
    },
    "language_info": {
      "name": "python"
    }
  },
  "cells": [
    {
      "cell_type": "markdown",
      "metadata": {
        "id": "view-in-github",
        "colab_type": "text"
      },
      "source": [
        "<a href=\"https://colab.research.google.com/github/engrdoc/Personal-Projects/blob/main/Lyrics_Analyzer.ipynb\" target=\"_parent\"><img src=\"https://colab.research.google.com/assets/colab-badge.svg\" alt=\"Open In Colab\"/></a>"
      ]
    },
    {
      "cell_type": "code",
      "execution_count": 1,
      "metadata": {
        "colab": {
          "base_uri": "https://localhost:8080/"
        },
        "id": "pmVj1ysXh0z0",
        "outputId": "4faf7f62-1918-4007-f274-6be92e9bcf6e"
      },
      "outputs": [
        {
          "output_type": "stream",
          "name": "stdout",
          "text": [
            "1426\n"
          ]
        }
      ],
      "source": [
        "lyrics = '''\n",
        "Wonder\n",
        "Shawn Mendes\n",
        "I wonder if I'm being real\n",
        "Do I speak my truth or do I filter how I feel?\n",
        "I wonder, wouldn't it be nice\n",
        "To live inside a world that isn't black and white?\n",
        "I wonder what it's like to be my friends\n",
        "Hope that they don't think I'll forget about them\n",
        "I wonder\n",
        "I wonder\n",
        "Right before I close my eyes\n",
        "The only thing that's on my mind\n",
        "Been dreamin' that you feel it too\n",
        "I wonder what it's like to be loved by you\n",
        "Yeah\n",
        "I wonder what it's like\n",
        "I wonder what it's like to be loved by\n",
        "I wonder why I'm so afraid\n",
        "Of saying something wrong, I never said I was a saint\n",
        "I wonder, when I cry into my hands\n",
        "I'm conditioned to feel like it makes me less of a man\n",
        "And I wonder if someday you'll be by my side\n",
        "And tell me that the world will end up alright\n",
        "I wonder\n",
        "I wonder\n",
        "Right before I close my eyes\n",
        "The only thing that's on my mind\n",
        "Been dreamin' that you feel it too\n",
        "I wonder what it's like to be loved by you\n",
        "Yeah\n",
        "I wonder what it's like\n",
        "I wonder what it's like to be loved by you\n",
        "I wonder what it's like to be loved by you\n",
        "Yeah\n",
        "I wonder what it's like to be loved by you\n",
        "I wonder what it's like to be loved by\n",
        "Right before I close my eyes\n",
        "The only thing that's on my mind\n",
        "Been dreamin' that you feel it too\n",
        "I wonder what it's like to be loved by you\n",
        "Source: LyricFind\n",
        "Songwriters: Nate Mercereau / Scott Harris / Shawn Mendes / Thomas Hull\n",
        "Wonder lyrics © Sony/ATV Music Publishing LLC, Universal Music Publishing Group\n",
        "'''\n",
        "print(len(lyrics))"
      ]
    },
    {
      "cell_type": "code",
      "source": [
        "print(lyrics.split())"
      ],
      "metadata": {
        "id": "LrZbrq4YihYS"
      },
      "execution_count": null,
      "outputs": []
    },
    {
      "cell_type": "code",
      "source": [
        "print(len(lyrics.split()))"
      ],
      "metadata": {
        "colab": {
          "base_uri": "https://localhost:8080/"
        },
        "id": "NYtwYsjaiira",
        "outputId": "4a3040e4-8a6f-4b66-bb11-45516fa6d060"
      },
      "execution_count": 3,
      "outputs": [
        {
          "output_type": "stream",
          "name": "stdout",
          "text": [
            "296\n"
          ]
        }
      ]
    },
    {
      "cell_type": "code",
      "source": [
        "word_count = {}\n",
        "for word in lyrics.split():\n",
        "  if word in word_count:\n",
        "    word_count[word] = word_count[word] + 1 #alternatively word_count[word] += 1\n",
        "  else:\n",
        "     word_count[word] = 1\n",
        "print(word_count)"
      ],
      "metadata": {
        "colab": {
          "base_uri": "https://localhost:8080/"
        },
        "id": "cdvMbrb4iu6A",
        "outputId": "1ac2ef2f-1a4f-446c-a39c-8c1423a39fa7"
      },
      "execution_count": 5,
      "outputs": [
        {
          "output_type": "stream",
          "name": "stdout",
          "text": [
            "{'Wonder': 2, 'Shawn': 2, 'Mendes': 2, 'I': 29, 'wonder': 18, 'if': 2, \"I'm\": 3, 'being': 1, 'real': 1, 'Do': 1, 'speak': 1, 'my': 10, 'truth': 1, 'or': 1, 'do': 1, 'filter': 1, 'how': 1, 'feel?': 1, 'wonder,': 2, \"wouldn't\": 1, 'it': 5, 'be': 11, 'nice': 1, 'To': 1, 'live': 1, 'inside': 1, 'a': 3, 'world': 2, 'that': 6, \"isn't\": 1, 'black': 1, 'and': 1, 'white?': 1, 'what': 11, \"it's\": 11, 'like': 12, 'to': 10, 'friends': 1, 'Hope': 1, 'they': 1, \"don't\": 1, 'think': 1, \"I'll\": 1, 'forget': 1, 'about': 1, 'them': 1, 'Right': 3, 'before': 3, 'close': 3, 'eyes': 3, 'The': 3, 'only': 3, 'thing': 3, \"that's\": 3, 'on': 3, 'mind': 3, 'Been': 3, \"dreamin'\": 3, 'you': 9, 'feel': 4, 'too': 3, 'loved': 8, 'by': 9, 'Yeah': 3, 'why': 1, 'so': 1, 'afraid': 1, 'Of': 1, 'saying': 1, 'something': 1, 'wrong,': 1, 'never': 1, 'said': 1, 'was': 1, 'saint': 1, 'when': 1, 'cry': 1, 'into': 1, 'hands': 1, 'conditioned': 1, 'makes': 1, 'me': 2, 'less': 1, 'of': 1, 'man': 1, 'And': 2, 'someday': 1, \"you'll\": 1, 'side': 1, 'tell': 1, 'the': 1, 'will': 1, 'end': 1, 'up': 1, 'alright': 1, 'Source:': 1, 'LyricFind': 1, 'Songwriters:': 1, 'Nate': 1, 'Mercereau': 1, '/': 3, 'Scott': 1, 'Harris': 1, 'Thomas': 1, 'Hull': 1, 'lyrics': 1, '©': 1, 'Sony/ATV': 1, 'Music': 2, 'Publishing': 2, 'LLC,': 1, 'Universal': 1, 'Group': 1}\n"
          ]
        }
      ]
    },
    {
      "cell_type": "code",
      "source": [
        "import pandas as pd\n",
        "#pd.DataFrame.from_dict(word_count)"
      ],
      "metadata": {
        "id": "_d6ekqS6oO3f"
      },
      "execution_count": 4,
      "outputs": []
    },
    {
      "cell_type": "code",
      "source": [
        "pd.DataFrame.from_dict(word_count, orient='index')"
      ],
      "metadata": {
        "colab": {
          "base_uri": "https://localhost:8080/",
          "height": 423
        },
        "id": "yh6SIflHpipQ",
        "outputId": "34c24033-29d5-4867-ce7a-7a74cc3f39a2"
      },
      "execution_count": 6,
      "outputs": [
        {
          "output_type": "execute_result",
          "data": {
            "text/plain": [
              "             0\n",
              "Wonder       2\n",
              "Shawn        2\n",
              "Mendes       2\n",
              "I           29\n",
              "wonder      18\n",
              "...         ..\n",
              "Music        2\n",
              "Publishing   2\n",
              "LLC,         1\n",
              "Universal    1\n",
              "Group        1\n",
              "\n",
              "[113 rows x 1 columns]"
            ],
            "text/html": [
              "\n",
              "  <div id=\"df-d307623c-a837-4f8f-b983-a5e39ab7a751\">\n",
              "    <div class=\"colab-df-container\">\n",
              "      <div>\n",
              "<style scoped>\n",
              "    .dataframe tbody tr th:only-of-type {\n",
              "        vertical-align: middle;\n",
              "    }\n",
              "\n",
              "    .dataframe tbody tr th {\n",
              "        vertical-align: top;\n",
              "    }\n",
              "\n",
              "    .dataframe thead th {\n",
              "        text-align: right;\n",
              "    }\n",
              "</style>\n",
              "<table border=\"1\" class=\"dataframe\">\n",
              "  <thead>\n",
              "    <tr style=\"text-align: right;\">\n",
              "      <th></th>\n",
              "      <th>0</th>\n",
              "    </tr>\n",
              "  </thead>\n",
              "  <tbody>\n",
              "    <tr>\n",
              "      <th>Wonder</th>\n",
              "      <td>2</td>\n",
              "    </tr>\n",
              "    <tr>\n",
              "      <th>Shawn</th>\n",
              "      <td>2</td>\n",
              "    </tr>\n",
              "    <tr>\n",
              "      <th>Mendes</th>\n",
              "      <td>2</td>\n",
              "    </tr>\n",
              "    <tr>\n",
              "      <th>I</th>\n",
              "      <td>29</td>\n",
              "    </tr>\n",
              "    <tr>\n",
              "      <th>wonder</th>\n",
              "      <td>18</td>\n",
              "    </tr>\n",
              "    <tr>\n",
              "      <th>...</th>\n",
              "      <td>...</td>\n",
              "    </tr>\n",
              "    <tr>\n",
              "      <th>Music</th>\n",
              "      <td>2</td>\n",
              "    </tr>\n",
              "    <tr>\n",
              "      <th>Publishing</th>\n",
              "      <td>2</td>\n",
              "    </tr>\n",
              "    <tr>\n",
              "      <th>LLC,</th>\n",
              "      <td>1</td>\n",
              "    </tr>\n",
              "    <tr>\n",
              "      <th>Universal</th>\n",
              "      <td>1</td>\n",
              "    </tr>\n",
              "    <tr>\n",
              "      <th>Group</th>\n",
              "      <td>1</td>\n",
              "    </tr>\n",
              "  </tbody>\n",
              "</table>\n",
              "<p>113 rows × 1 columns</p>\n",
              "</div>\n",
              "      <button class=\"colab-df-convert\" onclick=\"convertToInteractive('df-d307623c-a837-4f8f-b983-a5e39ab7a751')\"\n",
              "              title=\"Convert this dataframe to an interactive table.\"\n",
              "              style=\"display:none;\">\n",
              "        \n",
              "  <svg xmlns=\"http://www.w3.org/2000/svg\" height=\"24px\"viewBox=\"0 0 24 24\"\n",
              "       width=\"24px\">\n",
              "    <path d=\"M0 0h24v24H0V0z\" fill=\"none\"/>\n",
              "    <path d=\"M18.56 5.44l.94 2.06.94-2.06 2.06-.94-2.06-.94-.94-2.06-.94 2.06-2.06.94zm-11 1L8.5 8.5l.94-2.06 2.06-.94-2.06-.94L8.5 2.5l-.94 2.06-2.06.94zm10 10l.94 2.06.94-2.06 2.06-.94-2.06-.94-.94-2.06-.94 2.06-2.06.94z\"/><path d=\"M17.41 7.96l-1.37-1.37c-.4-.4-.92-.59-1.43-.59-.52 0-1.04.2-1.43.59L10.3 9.45l-7.72 7.72c-.78.78-.78 2.05 0 2.83L4 21.41c.39.39.9.59 1.41.59.51 0 1.02-.2 1.41-.59l7.78-7.78 2.81-2.81c.8-.78.8-2.07 0-2.86zM5.41 20L4 18.59l7.72-7.72 1.47 1.35L5.41 20z\"/>\n",
              "  </svg>\n",
              "      </button>\n",
              "      \n",
              "  <style>\n",
              "    .colab-df-container {\n",
              "      display:flex;\n",
              "      flex-wrap:wrap;\n",
              "      gap: 12px;\n",
              "    }\n",
              "\n",
              "    .colab-df-convert {\n",
              "      background-color: #E8F0FE;\n",
              "      border: none;\n",
              "      border-radius: 50%;\n",
              "      cursor: pointer;\n",
              "      display: none;\n",
              "      fill: #1967D2;\n",
              "      height: 32px;\n",
              "      padding: 0 0 0 0;\n",
              "      width: 32px;\n",
              "    }\n",
              "\n",
              "    .colab-df-convert:hover {\n",
              "      background-color: #E2EBFA;\n",
              "      box-shadow: 0px 1px 2px rgba(60, 64, 67, 0.3), 0px 1px 3px 1px rgba(60, 64, 67, 0.15);\n",
              "      fill: #174EA6;\n",
              "    }\n",
              "\n",
              "    [theme=dark] .colab-df-convert {\n",
              "      background-color: #3B4455;\n",
              "      fill: #D2E3FC;\n",
              "    }\n",
              "\n",
              "    [theme=dark] .colab-df-convert:hover {\n",
              "      background-color: #434B5C;\n",
              "      box-shadow: 0px 1px 3px 1px rgba(0, 0, 0, 0.15);\n",
              "      filter: drop-shadow(0px 1px 2px rgba(0, 0, 0, 0.3));\n",
              "      fill: #FFFFFF;\n",
              "    }\n",
              "  </style>\n",
              "\n",
              "      <script>\n",
              "        const buttonEl =\n",
              "          document.querySelector('#df-d307623c-a837-4f8f-b983-a5e39ab7a751 button.colab-df-convert');\n",
              "        buttonEl.style.display =\n",
              "          google.colab.kernel.accessAllowed ? 'block' : 'none';\n",
              "\n",
              "        async function convertToInteractive(key) {\n",
              "          const element = document.querySelector('#df-d307623c-a837-4f8f-b983-a5e39ab7a751');\n",
              "          const dataTable =\n",
              "            await google.colab.kernel.invokeFunction('convertToInteractive',\n",
              "                                                     [key], {});\n",
              "          if (!dataTable) return;\n",
              "\n",
              "          const docLinkHtml = 'Like what you see? Visit the ' +\n",
              "            '<a target=\"_blank\" href=https://colab.research.google.com/notebooks/data_table.ipynb>data table notebook</a>'\n",
              "            + ' to learn more about interactive tables.';\n",
              "          element.innerHTML = '';\n",
              "          dataTable['output_type'] = 'display_data';\n",
              "          await google.colab.output.renderOutput(dataTable, element);\n",
              "          const docLink = document.createElement('div');\n",
              "          docLink.innerHTML = docLinkHtml;\n",
              "          element.appendChild(docLink);\n",
              "        }\n",
              "      </script>\n",
              "    </div>\n",
              "  </div>\n",
              "  "
            ]
          },
          "metadata": {},
          "execution_count": 6
        }
      ]
    }
  ]
}