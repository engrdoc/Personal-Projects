{
  "cells": [
    {
      "cell_type": "markdown",
      "metadata": {
        "id": "view-in-github",
        "colab_type": "text"
      },
      "source": [
        "<a href=\"https://colab.research.google.com/github/engrdoc/Personal-Projects/blob/main/Rename_Files_v2.ipynb\" target=\"_parent\"><img src=\"https://colab.research.google.com/assets/colab-badge.svg\" alt=\"Open In Colab\"/></a>"
      ]
    },
    {
      "cell_type": "code",
      "execution_count": null,
      "id": "ea8a1f38",
      "metadata": {
        "id": "ea8a1f38"
      },
      "outputs": [],
      "source": [
        "import os"
      ]
    },
    {
      "cell_type": "code",
      "execution_count": null,
      "id": "3a9ea2f2",
      "metadata": {
        "id": "3a9ea2f2",
        "outputId": "f5b78c26-2d2c-4238-993e-f5014426d3d2"
      },
      "outputs": [
        {
          "data": {
            "text/plain": [
              "['2022-12-02_Fri_WeeklyTD.csv',\n",
              " '2022-11-30Wednesday_WeeklyTD.csv',\n",
              " '2022-11-18_Fri_WeeklyTD.csv',\n",
              " '2022-11-16Wednesday_WeeklyTD.csv',\n",
              " '2022-11-23Wednesday_WeeklyTD.csv',\n",
              " '2022-11-25_Fri_WeeklyTD.csv',\n",
              " '2022-11-09Wednesday_WeeklyTD.csv']"
            ]
          },
          "execution_count": 20,
          "metadata": {},
          "output_type": "execute_result"
        }
      ],
      "source": [
        "os.listdir('//Users/engrdoc/Documents/+Python/Files/')"
      ]
    },
    {
      "cell_type": "code",
      "execution_count": null,
      "id": "c104c957-dbba-467f-a772-b07d482735c7",
      "metadata": {
        "id": "c104c957-dbba-467f-a772-b07d482735c7"
      },
      "outputs": [],
      "source": [
        "import glob"
      ]
    },
    {
      "cell_type": "code",
      "execution_count": null,
      "id": "7302402f-c54e-4538-9d2d-d6647f6a93d7",
      "metadata": {
        "id": "7302402f-c54e-4538-9d2d-d6647f6a93d7"
      },
      "outputs": [],
      "source": [
        "path = r'//Users/engrdoc/Documents/+Python/Files/'"
      ]
    },
    {
      "cell_type": "code",
      "execution_count": null,
      "id": "da308157-ed8a-4f61-b3a4-9f822944a359",
      "metadata": {
        "id": "da308157-ed8a-4f61-b3a4-9f822944a359"
      },
      "outputs": [],
      "source": [
        "# search csv files with the word \"Night\"\n",
        "pattern = path + \"*Wed*.csv\""
      ]
    },
    {
      "cell_type": "code",
      "execution_count": null,
      "id": "5d87b631-83ca-4068-9ea3-c4a3729ad379",
      "metadata": {
        "id": "5d87b631-83ca-4068-9ea3-c4a3729ad379",
        "outputId": "b9bda6df-904c-46f1-c947-9466251c31ff"
      },
      "outputs": [
        {
          "data": {
            "text/plain": [
              "['//Users/engrdoc/Documents/+Python/Files/2022-11-30Wednesday_WeeklyTD.csv',\n",
              " '//Users/engrdoc/Documents/+Python/Files/2022-11-16Wednesday_WeeklyTD.csv',\n",
              " '//Users/engrdoc/Documents/+Python/Files/2022-11-23Wednesday_WeeklyTD.csv',\n",
              " '//Users/engrdoc/Documents/+Python/Files/2022-11-09Wednesday_WeeklyTD.csv']"
            ]
          },
          "execution_count": 24,
          "metadata": {},
          "output_type": "execute_result"
        }
      ],
      "source": [
        "# List of the files that match the pattern\n",
        "result = glob.glob(pattern)\n",
        "result"
      ]
    },
    {
      "cell_type": "code",
      "execution_count": null,
      "id": "4f2c70ad-9f89-4ec1-975c-a377d0619843",
      "metadata": {
        "id": "4f2c70ad-9f89-4ec1-975c-a377d0619843"
      },
      "outputs": [],
      "source": [
        "# Iterating the list\n",
        "for file_name in result:\n",
        "    old_name = file_name\n",
        "    remove_pathname = old_name.lstrip('//Users/engrdoc/Documents/+Python/Files/')\n",
        "    new_name = path + remove_pathname.rstrip('Wednesday_WeeklyTD.csv') + '_Wed_WeeklyTD.csv'\n",
        "    os.rename(old_name, new_name)"
      ]
    },
    {
      "cell_type": "code",
      "execution_count": null,
      "id": "ff8123c1-61e5-4945-a34b-3b2e572ac977",
      "metadata": {
        "id": "ff8123c1-61e5-4945-a34b-3b2e572ac977",
        "outputId": "e94944ee-b5fb-498d-ac7a-059ce3ddaca5"
      },
      "outputs": [
        {
          "name": "stdout",
          "output_type": "stream",
          "text": [
            "//Users/engrdoc/Documents/+Python/Files/2022-11-09_Wed_WeeklyTD.csv\n"
          ]
        }
      ],
      "source": [
        "# printing all renamed csv files\n",
        "res = glob.glob(path + remove_pathname.rstrip('Wednesday_WeeklyTD.csv') + '_Wed_WeeklyTD.csv')\n",
        "for name in res:\n",
        "    print(name)"
      ]
    },
    {
      "cell_type": "code",
      "execution_count": null,
      "id": "6cae97f5-393c-40bb-984e-d5a37fc1c6f4",
      "metadata": {
        "id": "6cae97f5-393c-40bb-984e-d5a37fc1c6f4"
      },
      "outputs": [],
      "source": []
    }
  ],
  "metadata": {
    "kernelspec": {
      "display_name": "Python 3 (ipykernel)",
      "language": "python",
      "name": "python3"
    },
    "language_info": {
      "codemirror_mode": {
        "name": "ipython",
        "version": 3
      },
      "file_extension": ".py",
      "mimetype": "text/x-python",
      "name": "python",
      "nbconvert_exporter": "python",
      "pygments_lexer": "ipython3",
      "version": "3.9.13"
    },
    "colab": {
      "provenance": [],
      "include_colab_link": true
    }
  },
  "nbformat": 4,
  "nbformat_minor": 5
}