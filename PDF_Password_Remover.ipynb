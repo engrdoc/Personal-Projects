{
  "cells": [
    {
      "cell_type": "markdown",
      "metadata": {
        "id": "view-in-github",
        "colab_type": "text"
      },
      "source": [
        "<a href=\"https://colab.research.google.com/github/engrdoc/Personal-Projects/blob/main/PDF_Password_Remover.ipynb\" target=\"_parent\"><img src=\"https://colab.research.google.com/assets/colab-badge.svg\" alt=\"Open In Colab\"/></a>"
      ]
    },
    {
      "cell_type": "code",
      "execution_count": null,
      "id": "e1feb5e0",
      "metadata": {
        "colab": {
          "base_uri": "https://localhost:8080/"
        },
        "id": "e1feb5e0",
        "outputId": "99a31a59-c00b-45c3-fa58-efd54af406d1"
      },
      "outputs": [
        {
          "output_type": "stream",
          "name": "stdout",
          "text": [
            "Looking in indexes: https://pypi.org/simple, https://us-python.pkg.dev/colab-wheels/public/simple/\n",
            "Requirement already satisfied: pikepdf in /usr/local/lib/python3.9/dist-packages (7.1.1)\n",
            "Requirement already satisfied: Pillow>=9.0 in /usr/local/lib/python3.9/dist-packages (from pikepdf) (9.4.0)\n",
            "Requirement already satisfied: deprecation in /usr/local/lib/python3.9/dist-packages (from pikepdf) (2.1.0)\n",
            "Requirement already satisfied: packaging in /usr/local/lib/python3.9/dist-packages (from pikepdf) (23.0)\n",
            "Requirement already satisfied: lxml>=4.8 in /usr/local/lib/python3.9/dist-packages (from pikepdf) (4.9.2)\n"
          ]
        }
      ],
      "source": [
        "pip install pikepdf"
      ]
    },
    {
      "cell_type": "code",
      "execution_count": null,
      "id": "5528e6b3",
      "metadata": {
        "id": "5528e6b3"
      },
      "outputs": [],
      "source": [
        "import pikepdf"
      ]
    },
    {
      "cell_type": "code",
      "source": [
        "#Disclaimer:  This code will only successfully run if you know the PDF's password.  This code will only disable asking for the password before opening the PDF."
      ],
      "metadata": {
        "id": "hMxpzFVUfXq0"
      },
      "id": "hMxpzFVUfXq0",
      "execution_count": 3,
      "outputs": []
    },
    {
      "cell_type": "code",
      "execution_count": null,
      "id": "2382fdf3",
      "metadata": {
        "id": "2382fdf3"
      },
      "outputs": [],
      "source": [
        "pdf_loc = input(\"PDF location: \")\n",
        "pdf_pass = input(\"PDF password: \")\n",
        "\n",
        "pdf = pikepdf.open(pdf_loc, password=pdf_pass)\n",
        "\n",
        "print(\"\\nProcessing...\\n\")\n",
        "\n",
        "pdf_save = input(\"Save file as: \")\n",
        "pdf_loc2 = input(\"Save location: \")\n",
        "\n",
        "pdf.save(pdf_loc2 + '\\\\' + pdf_save)\n",
        "\n",
        "print(\"The password successfully removed from the PDF\")\n",
        "print(\"\\aLocation: \" + pdf_loc + '\\\\' + pdf_save)"
      ]
    },
    {
      "cell_type": "code",
      "execution_count": null,
      "id": "4b72b77f",
      "metadata": {
        "id": "4b72b77f"
      },
      "outputs": [],
      "source": []
    }
  ],
  "metadata": {
    "kernelspec": {
      "display_name": "Python 3 (ipykernel)",
      "language": "python",
      "name": "python3"
    },
    "language_info": {
      "codemirror_mode": {
        "name": "ipython",
        "version": 3
      },
      "file_extension": ".py",
      "mimetype": "text/x-python",
      "name": "python",
      "nbconvert_exporter": "python",
      "pygments_lexer": "ipython3",
      "version": "3.9.13"
    },
    "colab": {
      "provenance": [],
      "include_colab_link": true
    }
  },
  "nbformat": 4,
  "nbformat_minor": 5
}